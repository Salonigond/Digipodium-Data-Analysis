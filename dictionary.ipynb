{
 "cells": [
  {
   "cell_type": "code",
   "execution_count": 2,
   "metadata": {},
   "outputs": [],
   "source": [
    "lbs_info = {\n",
    "    'full name': \"lal bahadur shastri college\",\n",
    "    'short name': 'lbs',\n",
    "    'student': 440,\n",
    "    'culture': 'mood kharab bacche'\n",
    "}"
   ]
  },
  {
   "cell_type": "code",
   "execution_count": 5,
   "metadata": {},
   "outputs": [],
   "source": [
    "movies = {\n",
    "    'suryavansham': {\n",
    "        'relayed on': 'sony max',\n",
    "        'plot': 'rich father doesnot like  his illitrate son',\n",
    "        'rating': 10,\n",
    "    },\n",
    "    'ghajini': {\n",
    "        'plot':'rich person forgets everything after 15 minutes',\n",
    "        'rating': 10,\n",
    "        'streaming on': 'jio cinema'\n",
    "    },\n",
    "    'the avengers':{\n",
    "    'plot': 'superheroes who save the world',\n",
    "    'rating': 100,\n",
    "    'streaming on': 'utv acting',\n",
    "    },\n",
    "    '1920':{\n",
    "        'plot': 'a horror movie, hero save the girl life',\n",
    "        'rating':9.5,\n",
    "        'streaming on': 'zee cinema'\n",
    "    },\n",
    "    '3 idiots':{\n",
    "        'plot': '3 friends in college',\n",
    "        'rating': 8.9,\n",
    "        'streaming on': 'amazon prime'\n",
    "    }\n",
    "\n",
    "}"
   ]
  },
  {
   "attachments": {},
   "cell_type": "markdown",
   "metadata": {},
   "source": [
    "# adding data\n",
    "syntax dict[key]  =value"
   ]
  },
  {
   "attachments": {},
   "cell_type": "markdown",
   "metadata": {},
   "source": [
    "# retrive\n",
    "movie['the avengers]"
   ]
  },
  {
   "cell_type": "code",
   "execution_count": 6,
   "metadata": {},
   "outputs": [
    {
     "data": {
      "text/plain": [
       "['suryavansham', 'ghajini', 'the avengers', '1920', '3 idiots']"
      ]
     },
     "execution_count": 6,
     "metadata": {},
     "output_type": "execute_result"
    }
   ],
   "source": [
    "# getting only keys\n",
    "list(movies.keys())"
   ]
  },
  {
   "cell_type": "code",
   "execution_count": 7,
   "metadata": {},
   "outputs": [
    {
     "data": {
      "text/plain": [
       "[('suryavansham',\n",
       "  {'relayed on': 'sony max',\n",
       "   'plot': 'rich father doesnot like  his illitrate son',\n",
       "   'rating': 10}),\n",
       " ('ghajini',\n",
       "  {'plot': 'rich person forgets everything after 15 minutes',\n",
       "   'rating': 10,\n",
       "   'streaming on': 'jio cinema'}),\n",
       " ('the avengers',\n",
       "  {'plot': 'superheroes who save the world',\n",
       "   'rating': 100,\n",
       "   'streaming on': 'utv acting'}),\n",
       " ('1920',\n",
       "  {'plot': 'a horror movie, hero save the girl life',\n",
       "   'rating': 9.5,\n",
       "   'streaming on': 'zee cinema'}),\n",
       " ('3 idiots',\n",
       "  {'plot': '3 friends in college',\n",
       "   'rating': 8.9,\n",
       "   'streaming on': 'amazon prime'})]"
      ]
     },
     "execution_count": 7,
     "metadata": {},
     "output_type": "execute_result"
    }
   ],
   "source": [
    "# getting only item\n",
    "list(movies.items())"
   ]
  },
  {
   "cell_type": "code",
   "execution_count": 9,
   "metadata": {},
   "outputs": [
    {
     "data": {
      "text/plain": [
       "dict_items([('suryavansham', {'relayed on': 'sony max', 'plot': 'rich father doesnot like  his illitrate son', 'rating': 10}), ('ghajini', {'plot': 'rich person forgets everything after 15 minutes', 'rating': 10, 'streaming on': 'jio cinema'}), ('the avengers', {'plot': 'superheroes who save the world', 'rating': 100, 'streaming on': 'utv acting'}), ('1920', {'plot': 'a horror movie, hero save the girl life', 'rating': 9.5, 'streaming on': 'zee cinema'}), ('3 idiots', {'plot': '3 friends in college', 'rating': 8.9, 'streaming on': 'amazon prime'})])"
      ]
     },
     "execution_count": 9,
     "metadata": {},
     "output_type": "execute_result"
    }
   ],
   "source": [
    "# gettinf both keys and values as pair\n",
    "movies.items()"
   ]
  },
  {
   "cell_type": "code",
   "execution_count": 11,
   "metadata": {},
   "outputs": [
    {
     "name": "stdout",
     "output_type": "stream",
     "text": [
      "SURYAVANSHAM\n",
      "relayed on     sony max\n",
      "\n",
      "plot           rich father doesnot like  his illitrate son\n",
      "\n",
      "rating         10\n",
      "\n",
      "GHAJINI\n",
      "plot           rich person forgets everything after 15 minutes\n",
      "\n",
      "rating         10\n",
      "\n",
      "streaming on   jio cinema\n",
      "\n",
      "THE AVENGERS\n",
      "plot           superheroes who save the world\n",
      "\n",
      "rating         100\n",
      "\n",
      "streaming on   utv acting\n",
      "\n",
      "1920\n",
      "plot           a horror movie, hero save the girl life\n",
      "\n",
      "rating         9.5\n",
      "\n",
      "streaming on   zee cinema\n",
      "\n",
      "3 IDIOTS\n",
      "plot           3 friends in college\n",
      "\n",
      "rating         8.9\n",
      "\n",
      "streaming on   amazon prime\n",
      "\n"
     ]
    }
   ],
   "source": [
    "for title, details in movies.items():\n",
    "    print(title.upper())\n",
    "    for enter, value in details.items():\n",
    "        print(f'{enter:15}{value}')\n",
    "        print()"
   ]
  },
  {
   "cell_type": "code",
   "execution_count": 12,
   "metadata": {},
   "outputs": [
    {
     "name": "stdout",
     "output_type": "stream",
     "text": [
      "{'suryavansham': {'relayed on': 'sony max', 'plot': 'rich father doesnot like  his illitrate son', 'rating': 10}, 'the avengers': {'plot': 'superheroes who save the world', 'rating': 100, 'streaming on': 'utv acting'}, '1920': {'plot': 'a horror movie, hero save the girl life', 'rating': 9.5, 'streaming on': 'zee cinema'}, '3 idiots': {'plot': '3 friends in college', 'rating': 8.9, 'streaming on': 'amazon prime'}}\n"
     ]
    }
   ],
   "source": [
    "movies.pop('ghajini')\n",
    "print(movies)"
   ]
  },
  {
   "cell_type": "code",
   "execution_count": null,
   "metadata": {},
   "outputs": [],
   "source": []
  }
 ],
 "metadata": {
  "kernelspec": {
   "display_name": "base",
   "language": "python",
   "name": "python3"
  },
  "language_info": {
   "codemirror_mode": {
    "name": "ipython",
    "version": 3
   },
   "file_extension": ".py",
   "mimetype": "text/x-python",
   "name": "python",
   "nbconvert_exporter": "python",
   "pygments_lexer": "ipython3",
   "version": "3.10.10"
  },
  "orig_nbformat": 4
 },
 "nbformat": 4,
 "nbformat_minor": 2
}
