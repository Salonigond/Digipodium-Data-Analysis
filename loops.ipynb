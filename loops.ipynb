{
 "cells": [
  {
   "attachments": {},
   "cell_type": "markdown",
   "metadata": {},
   "source": [
    "# for and while loops\n",
    "### for - step based loop\n",
    "for i in range(10):\n",
    "    print(i)\n",
    "````\n",
    "    -used for \n",
    "       -iterating over a sequence (list, tuple, string)\n",
    "       -itreating over a rang\n",
    "````\n",
    "### while - condition based loop\n",
    "i=0\n",
    "while i < 10:\n",
    "    print(i)\n",
    "    i+= 1\n",
    "````\n",
    "    -used for\n",
    "       -iterating until a condition is met\n",
    "       -iterating until a condition is no longer met\n",
    "       -iterating forever (if you don't break out of it)"
   ]
  },
  {
   "cell_type": "code",
   "execution_count": 6,
   "metadata": {},
   "outputs": [],
   "source": [
    "movies = ['shrek', 'kungfu panda', 'final fantasy',\n",
    "          'how to train your dragon', 'ice age', 'the lion king',\n",
    "          'good dinosaur', 'the jungle book', 'the little princess', 'aladdin']"
   ]
  },
  {
   "cell_type": "code",
   "execution_count": 4,
   "metadata": {},
   "outputs": [
    {
     "name": "stdout",
     "output_type": "stream",
     "text": [
      "total movies = 10\n"
     ]
    }
   ],
   "source": [
    "print(f'total movies = {len(movies)}')"
   ]
  },
  {
   "cell_type": "code",
   "execution_count": 7,
   "metadata": {},
   "outputs": [
    {
     "name": "stdout",
     "output_type": "stream",
     "text": [
      "shrek\n",
      "kungfu panda\n",
      "final fantasy\n",
      "how to train your dragon\n",
      "ice age\n",
      "the lion king\n",
      "good dinosaur\n",
      "the jungle book\n",
      "the little princess\n",
      "aladdin\n"
     ]
    }
   ],
   "source": [
    "for movie in movies:\n",
    "    print(movie)"
   ]
  },
  {
   "cell_type": "code",
   "execution_count": 8,
   "metadata": {},
   "outputs": [
    {
     "name": "stdout",
     "output_type": "stream",
     "text": [
      "shrek 5\n",
      "kungfu panda 12\n",
      "final fantasy 13\n",
      "how to train your dragon 24\n",
      "ice age 7\n",
      "the lion king 13\n",
      "good dinosaur 13\n",
      "the jungle book 15\n",
      "the little princess 19\n",
      "aladdin 7\n"
     ]
    }
   ],
   "source": [
    "for movie in movies:\n",
    "    print(movie,len(movie))"
   ]
  },
  {
   "cell_type": "code",
   "execution_count": 11,
   "metadata": {},
   "outputs": [
    {
     "name": "stdout",
     "output_type": "stream",
     "text": [
      "shrek                                    5\n",
      "kungfu panda                             12\n",
      "final fantasy                            13\n",
      "how to train your dragon                 24\n",
      "ice age                                  7\n",
      "the lion king                            13\n",
      "good dinosaur                            13\n",
      "the jungle book                          15\n",
      "the little princess                      19\n",
      "aladdin                                  7\n"
     ]
    }
   ],
   "source": [
    "for movie in movies:\n",
    "    print(f'{movie:40} {len(movie)}')"
   ]
  },
  {
   "cell_type": "code",
   "execution_count": 17,
   "metadata": {},
   "outputs": [
    {
     "name": "stdout",
     "output_type": "stream",
     "text": [
      "5 25\n",
      "12 144\n",
      "13 169\n",
      "24 576\n",
      "7 49\n",
      "13 169\n",
      "13 169\n",
      "15 225\n",
      "19 361\n",
      "7 49\n"
     ]
    }
   ],
   "source": [
    "nums = [5,12,13,24,7,13,13,15,19,7]\n",
    "for i in nums:\n",
    "    print(i, i**2)"
   ]
  },
  {
   "cell_type": "code",
   "execution_count": 19,
   "metadata": {},
   "outputs": [
    {
     "name": "stdout",
     "output_type": "stream",
     "text": [
      "12 144\n",
      "24 576\n"
     ]
    }
   ],
   "source": [
    "for i in nums:\n",
    "    if i % 2== 0:\n",
    "        print(i, i**2)"
   ]
  },
  {
   "cell_type": "code",
   "execution_count": 20,
   "metadata": {},
   "outputs": [
    {
     "data": {
      "text/plain": [
       "128"
      ]
     },
     "execution_count": 20,
     "metadata": {},
     "output_type": "execute_result"
    }
   ],
   "source": [
    "sum(nums)"
   ]
  },
  {
   "cell_type": "code",
   "execution_count": 24,
   "metadata": {},
   "outputs": [
    {
     "name": "stdout",
     "output_type": "stream",
     "text": [
      "36\n"
     ]
    }
   ],
   "source": [
    "total_evens = 0\n",
    "for i in nums:\n",
    "    if i % 2 == 0:\n",
    "        total_evens += i\n",
    "print(total_evens)"
   ]
  },
  {
   "cell_type": "code",
   "execution_count": 26,
   "metadata": {},
   "outputs": [
    {
     "name": "stdout",
     "output_type": "stream",
     "text": [
      "5\n",
      "12\n",
      "13\n",
      "24\n"
     ]
    }
   ],
   "source": [
    "for i in nums:\n",
    "    print(i)\n",
    "    if i> 20:\n",
    "        break"
   ]
  },
  {
   "cell_type": "code",
   "execution_count": 30,
   "metadata": {},
   "outputs": [
    {
     "name": "stdout",
     "output_type": "stream",
     "text": [
      "apple\n",
      "mango\n",
      "banana\n"
     ]
    }
   ],
   "source": [
    "x = ['apple','mango','banana','','orange','papaya']\n",
    "for item in x:\n",
    "    if len(item) ==0: \n",
    "       break\n",
    "    print(item)"
   ]
  },
  {
   "cell_type": "code",
   "execution_count": 31,
   "metadata": {},
   "outputs": [
    {
     "name": "stdout",
     "output_type": "stream",
     "text": [
      "login successful\n"
     ]
    }
   ],
   "source": [
    "errors = 0\n",
    "while True:\n",
    "    username= input('enter username:')\n",
    "    password= input('enter password:')\n",
    "    if username == 'adimn' and password== 'secrete':\n",
    "        print('login successful')\n",
    "        break\n",
    "    elif errors == 3:\n",
    "        print('Too many errors')\n",
    "        break\n",
    "    else:\n",
    "        print('invalid username/password')\n",
    "        errors += 1"
   ]
  },
  {
   "cell_type": "code",
   "execution_count": 3,
   "metadata": {},
   "outputs": [],
   "source": [
    "x = [\n",
    "    ['warbreaker', 4999], ['The way of king',5999], ['words of radians',5999], ['oathbring',5999],\n",
    "    ['rhythm of war',5999],\n",
    "]"
   ]
  },
  {
   "cell_type": "code",
   "execution_count": 4,
   "metadata": {},
   "outputs": [
    {
     "name": "stdout",
     "output_type": "stream",
     "text": [
      "warbreaker\n",
      "4999\n",
      "---\n",
      "The way of king\n",
      "5999\n",
      "---\n",
      "words of radians\n",
      "5999\n",
      "---\n",
      "oathbring\n",
      "5999\n",
      "---\n",
      "rhythm of war\n",
      "5999\n",
      "---\n"
     ]
    }
   ],
   "source": [
    "for item in x:\n",
    "    for data in item:\n",
    "        print(data)\n",
    "    print('---')"
   ]
  },
  {
   "cell_type": "code",
   "execution_count": null,
   "metadata": {},
   "outputs": [],
   "source": []
  }
 ],
 "metadata": {
  "kernelspec": {
   "display_name": "base",
   "language": "python",
   "name": "python3"
  },
  "language_info": {
   "codemirror_mode": {
    "name": "ipython",
    "version": 3
   },
   "file_extension": ".py",
   "mimetype": "text/x-python",
   "name": "python",
   "nbconvert_exporter": "python",
   "pygments_lexer": "ipython3",
   "version": "3.10.10"
  },
  "orig_nbformat": 4
 },
 "nbformat": 4,
 "nbformat_minor": 2
}
