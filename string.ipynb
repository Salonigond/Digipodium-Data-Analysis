{
 "cells": [
  {
   "cell_type": "code",
   "execution_count": 1,
   "metadata": {},
   "outputs": [
    {
     "name": "stdout",
     "output_type": "stream",
     "text": [
      "14\n"
     ]
    }
   ],
   "source": [
    "#string is a sequence of characters\n",
    "\n",
    "#initialise the string\n",
    "#s=''\n",
    "#b=1\n",
    "#print(str(b))\n",
    "\n",
    "s='saloni kashyap'\n",
    "print(len(s))"
   ]
  },
  {
   "cell_type": "code",
   "execution_count": 3,
   "metadata": {},
   "outputs": [
    {
     "name": "stdout",
     "output_type": "stream",
     "text": [
      "i\n",
      "0 s\n",
      "1 a\n",
      "2 l\n",
      "3 o\n",
      "4 n\n",
      "5 i\n",
      "6  \n",
      "7 k\n",
      "8 a\n",
      "9 s\n",
      "10 h\n",
      "11 y\n",
      "12 a\n",
      "13 p\n"
     ]
    }
   ],
   "source": [
    "#indexing\n",
    "print(s[5])\n",
    "for i in range(len(s)):\n",
    "    print(i,s[i])"
   ]
  },
  {
   "cell_type": "code",
   "execution_count": 6,
   "metadata": {},
   "outputs": [
    {
     "name": "stdout",
     "output_type": "stream",
     "text": [
      "saloni kashyap\n",
      "kashyap\n",
      "i kashyap\n"
     ]
    }
   ],
   "source": [
    "#slicing\n",
    "print(s[:])\n",
    "print(s[7:])\n",
    "print(s[5:])"
   ]
  },
  {
   "cell_type": "code",
   "execution_count": null,
   "metadata": {},
   "outputs": [],
   "source": []
  }
 ],
 "metadata": {
  "kernelspec": {
   "display_name": "base",
   "language": "python",
   "name": "python3"
  },
  "language_info": {
   "codemirror_mode": {
    "name": "ipython",
    "version": 3
   },
   "file_extension": ".py",
   "mimetype": "text/x-python",
   "name": "python",
   "nbconvert_exporter": "python",
   "pygments_lexer": "ipython3",
   "version": "3.10.10"
  },
  "orig_nbformat": 4
 },
 "nbformat": 4,
 "nbformat_minor": 2
}
