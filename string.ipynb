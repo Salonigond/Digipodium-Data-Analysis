{
 "cells": [
  {
   "cell_type": "code",
   "execution_count": 1,
   "metadata": {},
   "outputs": [
    {
     "name": "stdout",
     "output_type": "stream",
     "text": [
      "14\n"
     ]
    }
   ],
   "source": [
    "#string is a sequence of characters\n",
    "\n",
    "#initialise the string\n",
    "#s=''\n",
    "#b=1\n",
    "#print(str(b))\n",
    "\n",
    "s='saloni kashyap'\n",
    "print(len(s))"
   ]
  },
  {
   "cell_type": "code",
   "execution_count": 3,
   "metadata": {},
   "outputs": [
    {
     "name": "stdout",
     "output_type": "stream",
     "text": [
      "i\n",
      "0 s\n",
      "1 a\n",
      "2 l\n",
      "3 o\n",
      "4 n\n",
      "5 i\n",
      "6  \n",
      "7 k\n",
      "8 a\n",
      "9 s\n",
      "10 h\n",
      "11 y\n",
      "12 a\n",
      "13 p\n"
     ]
    }
   ],
   "source": [
    "#indexing\n",
    "print(s[5])\n",
    "for i in range(len(s)):\n",
    "    print(i,s[i])"
   ]
  },
  {
   "cell_type": "code",
   "execution_count": 6,
   "metadata": {},
   "outputs": [
    {
     "name": "stdout",
     "output_type": "stream",
     "text": [
      "saloni kashyap\n",
      "kashyap\n",
      "i kashyap\n"
     ]
    }
   ],
   "source": [
    "#slicing\n",
    "print(s[:])\n",
    "print(s[7:])\n",
    "print(s[5:])"
   ]
  },
  {
   "cell_type": "code",
   "execution_count": 4,
   "metadata": {},
   "outputs": [],
   "source": [
    "msg = 'life before death, strength before weakness, journey before destination'"
   ]
  },
  {
   "cell_type": "code",
   "execution_count": 5,
   "metadata": {},
   "outputs": [
    {
     "name": "stdout",
     "output_type": "stream",
     "text": [
      "life before death\n"
     ]
    }
   ],
   "source": [
    "print(msg[:17])"
   ]
  },
  {
   "cell_type": "code",
   "execution_count": 6,
   "metadata": {},
   "outputs": [
    {
     "name": "stdout",
     "output_type": "stream",
     "text": [
      "71\n"
     ]
    }
   ],
   "source": [
    "print(len(msg))"
   ]
  },
  {
   "cell_type": "code",
   "execution_count": 7,
   "metadata": {},
   "outputs": [
    {
     "data": {
      "text/plain": [
       "['life',\n",
       " 'before',\n",
       " 'death,',\n",
       " 'strength',\n",
       " 'before',\n",
       " 'weakness,',\n",
       " 'journey',\n",
       " 'before',\n",
       " 'destination']"
      ]
     },
     "execution_count": 7,
     "metadata": {},
     "output_type": "execute_result"
    }
   ],
   "source": [
    "msg.split()"
   ]
  },
  {
   "cell_type": "code",
   "execution_count": 8,
   "metadata": {},
   "outputs": [
    {
     "data": {
      "text/plain": [
       "['life before death',\n",
       " ' strength before weakness',\n",
       " ' journey before destination']"
      ]
     },
     "execution_count": 8,
     "metadata": {},
     "output_type": "execute_result"
    }
   ],
   "source": [
    "msg.split(',')"
   ]
  },
  {
   "cell_type": "code",
   "execution_count": 12,
   "metadata": {},
   "outputs": [
    {
     "name": "stdout",
     "output_type": "stream",
     "text": [
      "rain rain go away,\n",
      "come again another day.\n",
      "litter johny wants to play,\n",
      "rain rain go away.\n",
      "-x--x--x--x--x--x--x--x--x--x-\n",
      "89 num of characters\n",
      "17 num of words\n",
      "4 num of lines\n"
     ]
    }
   ],
   "source": [
    "poem='''rain rain go away,\n",
    "come again another day.\n",
    "litter johny wants to play,\n",
    "rain rain go away.'''\n",
    "print(poem)\n",
    "print('-x-'* 10)\n",
    "print(len(poem), 'num of characters')\n",
    "print(len(poem.split()), 'num of words')\n",
    "print(len(poem.splitlines()), 'num of lines')"
   ]
  },
  {
   "cell_type": "code",
   "execution_count": 13,
   "metadata": {},
   "outputs": [
    {
     "data": {
      "text/plain": [
       "5"
      ]
     },
     "execution_count": 13,
     "metadata": {},
     "output_type": "execute_result"
    }
   ],
   "source": [
    "poem.count('in')"
   ]
  },
  {
   "cell_type": "code",
   "execution_count": 14,
   "metadata": {},
   "outputs": [
    {
     "name": "stdout",
     "output_type": "stream",
     "text": [
      "LIFE BEFORE DEATH, STRENGTH BEFORE WEAKNESS, JOURNEY BEFORE DESTINATION\n",
      "life before death, strength before weakness, journey before destination\n",
      "Life Before Death, Strength Before Weakness, Journey Before Destination\n",
      "Life before death, strength before weakness, journey before destination\n",
      "LIFE BEFORE DEATH, STRENGTH BEFORE WEAKNESS, JOURNEY BEFORE DESTINATION\n"
     ]
    }
   ],
   "source": [
    "print(msg.upper())\n",
    "print(msg.lower())\n",
    "print(msg.title())\n",
    "print(msg.capitalize())\n",
    "print(msg.swapcase())"
   ]
  },
  {
   "cell_type": "code",
   "execution_count": 18,
   "metadata": {},
   "outputs": [
    {
     "name": "stdout",
     "output_type": "stream",
     "text": [
      "apple False\n",
      "apple True\n",
      "apple True\n"
     ]
    }
   ],
   "source": [
    "a = 'apple'\n",
    "b ='290'\n",
    "c = 'apple100'\n",
    "print(a, a.isnumeric()) # check if all characters are numeric\n",
    "print(a, a.isalpha()) # check if all characters are alphabets\n",
    "print(a, a.isalnum()) # check if all characters are alphanumeric"
   ]
  },
  {
   "cell_type": "code",
   "execution_count": 19,
   "metadata": {},
   "outputs": [
    {
     "name": "stdout",
     "output_type": "stream",
     "text": [
      "pain pain go away,\n",
      "come again another day.\n",
      "litter johny wants to play,\n",
      "pain pain go away.\n"
     ]
    }
   ],
   "source": [
    "print(poem.replace('rain','pain'))"
   ]
  },
  {
   "cell_type": "code",
   "execution_count": 21,
   "metadata": {},
   "outputs": [
    {
     "name": "stdout",
     "output_type": "stream",
     "text": [
      "rasun rasun go away,\n",
      "come again another day.\n",
      "litter johny wants to play,\n",
      "rain rain go away.\n"
     ]
    }
   ],
   "source": [
    "print(poem.replace('in','sun', 2))# 2 is the max number of replacements"
   ]
  },
  {
   "cell_type": "code",
   "execution_count": null,
   "metadata": {},
   "outputs": [],
   "source": []
  }
 ],
 "metadata": {
  "kernelspec": {
   "display_name": "base",
   "language": "python",
   "name": "python3"
  },
  "language_info": {
   "codemirror_mode": {
    "name": "ipython",
    "version": 3
   },
   "file_extension": ".py",
   "mimetype": "text/x-python",
   "name": "python",
   "nbconvert_exporter": "python",
   "pygments_lexer": "ipython3",
   "version": "3.10.10"
  },
  "orig_nbformat": 4
 },
 "nbformat": 4,
 "nbformat_minor": 2
}
