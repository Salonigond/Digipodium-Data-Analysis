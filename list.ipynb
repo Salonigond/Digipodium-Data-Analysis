{
 "cells": [
  {
   "cell_type": "code",
   "execution_count": 20,
   "metadata": {},
   "outputs": [],
   "source": [
    "# difining list in python\n",
    "\n",
    "# list of strings\n",
    "list = ('nikhlesh','aman','rahul','devansh','rishabh')\n",
    "\n",
    "#list of numbers\n",
    "list2 = [1,2,3,4,5,15,25,100]\n",
    "\n",
    "# maxed data list\n",
    "list3 = ['rive',90,102,93,29,44,'b','false',5.786]\n",
    " #nested list\n",
    "list4 = [[1,2,3],[3,4,5,7],[2,1]]"
   ]
  },
  {
   "cell_type": "code",
   "execution_count": 21,
   "metadata": {},
   "outputs": [
    {
     "name": "stdout",
     "output_type": "stream",
     "text": [
      "[40, 50, 60, 70, 80]\n"
     ]
    }
   ],
   "source": [
    "# getting a list slice\n",
    "#0 1 2 3 4 5 6 7 8 9\n",
    "l= [10,20,30,40,50,60,70,80,90,1000] \n",
    "slice1=l[3:-2]\n",
    "print(slice1)"
   ]
  },
  {
   "cell_type": "code",
   "execution_count": 22,
   "metadata": {},
   "outputs": [
    {
     "name": "stdout",
     "output_type": "stream",
     "text": [
      "[10, 20, 30, 40, 50]\n",
      "[10, 20, 30, 40, 50]\n"
     ]
    }
   ],
   "source": [
    "# getting a list slice\n",
    "l = [10,20,30,40,50,60,70,80,90,100]\n",
    "slice1=l[:5]\n",
    "slice2=l[0:5]\n",
    "print(slice1)\n",
    "print(slice2)"
   ]
  },
  {
   "cell_type": "code",
   "execution_count": 23,
   "metadata": {},
   "outputs": [
    {
     "name": "stdout",
     "output_type": "stream",
     "text": [
      "[60, 70, 80, 90, 100]\n",
      "[60, 70, 80, 90, 100]\n"
     ]
    }
   ],
   "source": [
    "# getting a list slice\n",
    "l = [10,20,30,40,50,60,70,80,90,100]\n",
    "slice1=l[5:]\n",
    "slice2=l[5:len(l)]\n",
    "print(slice1)\n",
    "print(slice2)"
   ]
  },
  {
   "cell_type": "code",
   "execution_count": 24,
   "metadata": {},
   "outputs": [],
   "source": [
    "list1=[1,2,3,'a','b']"
   ]
  },
  {
   "cell_type": "code",
   "execution_count": 25,
   "metadata": {},
   "outputs": [
    {
     "name": "stdout",
     "output_type": "stream",
     "text": [
      "[1, 2, 3, 'a', 'b', 'c', 'd']\n"
     ]
    }
   ],
   "source": [
    "# append\n",
    "list1.append('c')\n",
    "list1.append('d')\n",
    "print(list1)"
   ]
  },
  {
   "cell_type": "code",
   "execution_count": 26,
   "metadata": {},
   "outputs": [
    {
     "name": "stdout",
     "output_type": "stream",
     "text": [
      "['e', 1, 2, 3, 'a', 'b', 'c', 'd']\n"
     ]
    }
   ],
   "source": [
    "list1.insert(0,'e')\n",
    "print(list1)"
   ]
  },
  {
   "cell_type": "code",
   "execution_count": 27,
   "metadata": {},
   "outputs": [
    {
     "name": "stdout",
     "output_type": "stream",
     "text": [
      "[1, 2, 3, 'uday', 'vikram singh']\n",
      "[1, 'python', 2, 3, 'uday', 'vikram singh']\n"
     ]
    }
   ],
   "source": [
    "#insert\n",
    "arr=[1,2,3,'uday']\n",
    "arr.append('vikram singh')\n",
    "print(arr)\n",
    "\n",
    "arr.insert(1,'python')\n",
    "print(arr)"
   ]
  },
  {
   "cell_type": "code",
   "execution_count": 28,
   "metadata": {},
   "outputs": [
    {
     "name": "stdout",
     "output_type": "stream",
     "text": [
      "vikram singh\n",
      "[1, 'python', 2, 3, 'uday']\n",
      "python\n",
      "[1, 2, 3, 'uday']\n"
     ]
    }
   ],
   "source": [
    "#delete\n",
    "x=arr.pop()\n",
    "print(x)\n",
    "print(arr)\n",
    "print(arr.pop(1))\n",
    "print(arr)"
   ]
  },
  {
   "cell_type": "code",
   "execution_count": 29,
   "metadata": {},
   "outputs": [
    {
     "name": "stdout",
     "output_type": "stream",
     "text": [
      "[1, 2, 3]\n"
     ]
    }
   ],
   "source": [
    "#remove\n",
    "arr.remove('uday')\n",
    "print(arr)"
   ]
  },
  {
   "cell_type": "code",
   "execution_count": 30,
   "metadata": {},
   "outputs": [
    {
     "name": "stdout",
     "output_type": "stream",
     "text": [
      "1000\n",
      "-1\n"
     ]
    }
   ],
   "source": [
    "#max\n",
    "arr1=[1,2,3,4,5,6,1000,-1,0,124]\n",
    "print(max(arr1))\n",
    "print(min(arr1))"
   ]
  },
  {
   "cell_type": "code",
   "execution_count": 31,
   "metadata": {},
   "outputs": [
    {
     "name": "stdout",
     "output_type": "stream",
     "text": [
      "[124, 0, -1, 1000, 6, 5, 4, 3, 2, 1]\n"
     ]
    }
   ],
   "source": [
    "#revers\n",
    "arr1.reverse()\n",
    "print(arr1)"
   ]
  },
  {
   "cell_type": "code",
   "execution_count": 32,
   "metadata": {},
   "outputs": [
    {
     "name": "stdout",
     "output_type": "stream",
     "text": [
      "[124, 0, -1, 1000, 6, 5, 4, 3, 2, 1]\n"
     ]
    }
   ],
   "source": [
    "print(arr1[::1])"
   ]
  },
  {
   "cell_type": "code",
   "execution_count": 33,
   "metadata": {},
   "outputs": [
    {
     "name": "stdout",
     "output_type": "stream",
     "text": [
      "6\n"
     ]
    }
   ],
   "source": [
    "#count\n",
    "arr1=[1,2,3,3,2,1,1,1,3,3,3,3]\n",
    "print(arr1.count(3))"
   ]
  },
  {
   "cell_type": "code",
   "execution_count": 35,
   "metadata": {},
   "outputs": [
    {
     "name": "stdout",
     "output_type": "stream",
     "text": [
      "[1000, 123, 23, 1, 0, -1, -12234]\n"
     ]
    }
   ],
   "source": [
    "#sort\n",
    "arr1=[0,1,-1,123,-12234,1000,23]\n",
    "arr1.sort(reverse=True)\n",
    "print(arr1)"
   ]
  },
  {
   "cell_type": "code",
   "execution_count": 38,
   "metadata": {},
   "outputs": [
    {
     "name": "stdout",
     "output_type": "stream",
     "text": [
      "[1, 2, 3, 4, 5, 6]\n"
     ]
    }
   ],
   "source": [
    "#extend\n",
    "arr1=[1,2,3]\n",
    "arr1.extend([4,5,6,])\n",
    "print(arr1)"
   ]
  },
  {
   "cell_type": "code",
   "execution_count": 39,
   "metadata": {},
   "outputs": [
    {
     "name": "stdout",
     "output_type": "stream",
     "text": [
      "c\n",
      "a\n"
     ]
    }
   ],
   "source": [
    "arr=['a','b','c']\n",
    "print(max(arr))\n",
    "print(min(arr))"
   ]
  }
 ],
 "metadata": {
  "kernelspec": {
   "display_name": "base",
   "language": "python",
   "name": "python3"
  },
  "language_info": {
   "codemirror_mode": {
    "name": "ipython",
    "version": 3
   },
   "file_extension": ".py",
   "mimetype": "text/x-python",
   "name": "python",
   "nbconvert_exporter": "python",
   "pygments_lexer": "ipython3",
   "version": "3.10.10"
  },
  "orig_nbformat": 4
 },
 "nbformat": 4,
 "nbformat_minor": 2
}
